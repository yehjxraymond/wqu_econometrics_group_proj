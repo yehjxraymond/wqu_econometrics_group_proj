{
 "cells": [
  {
   "cell_type": "markdown",
   "metadata": {},
   "source": [
    "# Calculating Equilibrium FX\n",
    "\n",
    "You can choose any currency pair you want.\n",
    "You calculate the equilibrium FX for your local currency.\n",
    "\n",
    "1. Indicate economic theories and models for calculating equilibrium FX.\n",
    "2. Indicate macroeconomic variables used for calculating equilibrium FX.\n",
    "3. Explain the connection between linear regression and Vector Error Correction (VEC).\n",
    "4. Calculate equilibrium FX using VEC. You can use the Behavioural Equilibrium Exchange Rate (BEER) approach. Comment results."
   ]
  },
  {
   "cell_type": "markdown",
   "metadata": {},
   "source": [
    "### Indicate economic theories and models for calculating equilibrium FX.\n",
    "\n",
    "The equilibirum foreign exchange (FX) rate is determined by the demand and supply of one currency given another. This value can be determined by the intersection between the demand curve and the supply curve of the currency pair.\n",
    "\n",
    "![Equlibrium FX Rate](assets/equilibrium_fx.png)\n",
    "\n",
    "In the example given by Khan Academy[1], we can see that the exchange rate between Peso and Euro is defined by:\n",
    "\n",
    "- Different amount of Euros supplied at different rate of Peso per Euro, forming the supply curve\n",
    "- Different amount of Euros demanded at different rate of Peso per Euro, forming the demand curve\n",
    "\n",
    "The intersection of these two curves determine the equilibrium FX rate between Peso and Euro:\n",
    "\n",
    "- A rate higher than the equilibrium will result in the supply of Euros to exceed the demand, applying a downward pressure in the rate, towards short-term equilibrium.\n",
    "- A rate lower than the equilibirum will result in the demand of Eruos to exceed the supply, applying a upward pressure in the rate, towards short-term equilibirum."
   ]
  },
  {
   "cell_type": "markdown",
   "metadata": {},
   "source": [
    "## Indicate macroeconomic variables used for calculating equilibrium FX.\n",
    "\n",
    "Macroeconomic variables which affects the demand or supply curve of the one currency, expressed in another will affect the equilibrium FX rate.\n",
    "\n",
    "### Interest Rates\n",
    "\n",
    "One such example is the interest rate of a country. When interest rates increases, savers from other countries will be encouraged to buy financial assets in that country[1]. That will require foreign savers to first buy the country's currency to buy the financial assets. This results in higher demand for the country's currency, resulting in increased exhange rate. \n",
    "\n",
    "Factors increasing interest rate can include the country's budget deficit. \n",
    "\n",
    "### Money Supply\n",
    "\n",
    "The money supply of the country affects the supply of the currency directly. An increase in money supply results in a decrease in equilibrium FX[2].\n",
    "\n",
    "One metrics that is available is M1 which directly measures physical currency and coin, demand deposits, travelers checks, other checkable deposits and negotiable order of withdrawal (NOW) accounts[3]. Basically, the most liquid form of money in a country.\n",
    "\n",
    "### Inflation\n",
    "\n",
    "Typically, a country with a consistently lower inflation rate exhibits a rising currency value, as its purchasing power increases relative to other currencies. [4]\n",
    "\n",
    "### Industrial Production Index \n",
    "\n",
    "The Index of Industrial Production (IIP) has shown to be dependent on the exchange rate[5].\n",
    "\n",
    "### Political Stability\n",
    "\n",
    "Political stability of a country also affects the exchange rate positively. Investors are encouraged to invest in countries with higher political stability, resulting in higher demand for the currency[4]."
   ]
  },
  {
   "cell_type": "markdown",
   "metadata": {},
   "source": [
    "## Explain the connection between linear regression and Vector Error Correction (VEC)."
   ]
  },
  {
   "cell_type": "markdown",
   "metadata": {},
   "source": [
    "The Vector Auto-Regressive(VAR) model extends the linear regression model by allowing different processes to be grenerated from their mutual histories. \n",
    "\n",
    "![VAR](assets/var.png)\n",
    "\n",
    "The VAR equation is produce the generating process based on previous period values, producing a short term forecasting result.  \n",
    "\n",
    "The Vector Error Correction (VEC) model, also known as cointegration model, extends the VAR model. It introduces the long-term relationships between variables, through their cointegration. \n",
    "\n",
    "![VECM](assets/vecm.png)\n",
    "\n",
    "The VECM integrates information of the cointegration of the variables to allow them to return to long-run equilibirum. This can be seen from the PI term in the equation above. We can see that the VECM is a linear model, forming a linear relationship between the first difference of the value and the difference(s) of the "
   ]
  },
  {
   "cell_type": "markdown",
   "metadata": {},
   "source": [
    "## References\n",
    "[1] https://www.khanacademy.org/economics-finance-domain/ap-macroeconomics/every-graph-used-in-ap-macroeconomics/a/the-foreign-exchange-market-model\n",
    "\n",
    "[2] https://eml.berkeley.edu/~obstfeld/182_sp06/c14.pdf\n",
    "\n",
    "[3] https://www.investopedia.com/terms/m/m1.asp\n",
    "\n",
    "[4] [https://www.investopedia.com/trading/factors-influence-exchange-rates/]\n",
    "\n",
    "[5] https://www.researchgate.net/publication/228258887_Causal_Relationships_between_Industrial_Production_Interest_Rate_and_Exchange_Rate_Evidence_on_India\n",
    "\n",
    "https://www.researchgate.net/publication/320372110_MODELING_AND_FORECASTING_EXCHANGE_RATES\n",
    "\n",
    "https://homepage.univie.ac.at/robert.kunst/prog05bihawei.pdf"
   ]
  },
  {
   "cell_type": "code",
   "execution_count": null,
   "metadata": {},
   "outputs": [],
   "source": []
  }
 ],
 "metadata": {
  "kernelspec": {
   "display_name": "R",
   "language": "R",
   "name": "ir"
  },
  "language_info": {
   "codemirror_mode": "r",
   "file_extension": ".r",
   "mimetype": "text/x-r-source",
   "name": "R",
   "pygments_lexer": "r",
   "version": "3.5.1"
  }
 },
 "nbformat": 4,
 "nbformat_minor": 2
}
