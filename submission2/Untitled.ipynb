{
 "cells": [
  {
   "cell_type": "markdown",
   "metadata": {},
   "source": [
    "# Comparing GARCH Models\n",
    "\n",
    "## ARCH(p) - Autoregressive Conditional Heteroskedasticity\n",
    "\n",
    "Variance of current error is a function of previous term's error terms\n",
    "\n",
    "p - number of alpha coefficients\n",
    "\n",
    "### Limitations\n",
    "\n",
    "- Assumes symmetric effect of positive and negative shocks\n",
    "- Tend to predict slow mean reversion in conditional variance, but in practice, there cab be sharp spikes in volatility that vanished quickly\n",
    "- Struggles to deal with excess kurtosis due to fundamental mathematical constraints that must hold \n",
    "- Allows shock of conditional expectation to feed persistence in conditional variance but does not allow changes in conditional variance to affect conditional expectation\n",
    "\n",
    "\n",
    "## GARCH(p, q) - Generalised ARCH\n",
    "\n",
    "Extension of ARCH if we allow conditional variance to follow AR(p) process. Conditional variance follows ARMA(p, q) process.\n",
    "\n",
    "p - number of alpha coefficients\n",
    "q - number of beta coefficients ()\n",
    "\n"
   ]
  },
  {
   "cell_type": "code",
   "execution_count": null,
   "metadata": {},
   "outputs": [],
   "source": []
  }
 ],
 "metadata": {
  "kernelspec": {
   "display_name": "R",
   "language": "R",
   "name": "ir"
  },
  "language_info": {
   "codemirror_mode": "r",
   "file_extension": ".r",
   "mimetype": "text/x-r-source",
   "name": "R",
   "pygments_lexer": "r",
   "version": "3.5.1"
  }
 },
 "nbformat": 4,
 "nbformat_minor": 2
}
