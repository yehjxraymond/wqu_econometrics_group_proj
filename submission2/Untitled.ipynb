{
 "cells": [
  {
   "cell_type": "code",
   "execution_count": 3,
   "metadata": {},
   "outputs": [
    {
     "name": "stderr",
     "output_type": "stream",
     "text": [
      "Warning message:\n",
      "“AAPL contains missing values. Some functions will not work if objects contain missing values in the middle of the series. Consider using na.omit(), na.approx(), na.fill(), etc to remove or replace them.”"
     ]
    },
    {
     "data": {
      "text/html": [
       "'AAPL'"
      ],
      "text/latex": [
       "'AAPL'"
      ],
      "text/markdown": [
       "'AAPL'"
      ],
      "text/plain": [
       "[1] \"AAPL\""
      ]
     },
     "metadata": {},
     "output_type": "display_data"
    },
    {
     "data": {
      "text/plain": [
       "           AAPL.Open AAPL.High AAPL.Low AAPL.Close AAPL.Volume AAPL.Adjusted\n",
       "1980-12-12  0.513393  0.515625 0.513393   0.513393   117258400      0.023007\n",
       "1980-12-15  0.488839  0.488839 0.486607   0.486607    43971200      0.021807\n",
       "1980-12-16  0.453125  0.453125 0.450893   0.450893    26432000      0.020206\n",
       "1980-12-17  0.462054  0.464286 0.462054   0.462054    21610400      0.020706\n",
       "1980-12-18  0.475446  0.477679 0.475446   0.475446    18362400      0.021307\n",
       "1980-12-19  0.504464  0.506696 0.504464   0.504464    12157600      0.022607"
      ]
     },
     "metadata": {},
     "output_type": "display_data"
    }
   ],
   "source": [
    "library(quantmod)\n",
    "library(ggplot2)\n",
    "\n",
    "# Download Apple data from Yahoo Finance\n",
    "getSymbols(\"AAPL\", src = \"yahoo\", from = '1980-12-12', to = '2019-04-01', getSymbols.yahoo.warning=FALSE)\n",
    "\n",
    "# Show first few rows from the dataset\n",
    "head(AAPL)"
   ]
  },
  {
   "cell_type": "code",
   "execution_count": null,
   "metadata": {},
   "outputs": [],
   "source": []
  }
 ],
 "metadata": {
  "kernelspec": {
   "display_name": "R",
   "language": "R",
   "name": "ir"
  },
  "language_info": {
   "codemirror_mode": "r",
   "file_extension": ".r",
   "mimetype": "text/x-r-source",
   "name": "R",
   "pygments_lexer": "r",
   "version": "3.5.1"
  }
 },
 "nbformat": 4,
 "nbformat_minor": 2
}
